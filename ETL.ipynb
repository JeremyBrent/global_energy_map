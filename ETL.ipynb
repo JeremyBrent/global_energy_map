{
 "cells": [
  {
   "cell_type": "code",
   "execution_count": null,
   "metadata": {
    "ExecuteTime": {
     "end_time": "2020-06-27T17:48:51.015987Z",
     "start_time": "2020-06-27T17:48:50.445651Z"
    }
   },
   "outputs": [],
   "source": [
    "import pandas as pd \n",
    "from config import username, password, username_heroku, password_heroku, database_heroku, host_heroku\n",
    "from sqlalchemy import create_engine\n"
   ]
  },
  {
   "cell_type": "code",
   "execution_count": null,
   "metadata": {
    "ExecuteTime": {
     "end_time": "2020-06-27T17:48:51.135172Z",
     "start_time": "2020-06-27T17:48:51.026055Z"
    },
    "scrolled": true
   },
   "outputs": [],
   "source": [
    "df = pd.read_csv(\"Assets/Data/usa_power_plant_database.csv\")\n",
    "df"
   ]
  },
  {
   "cell_type": "markdown",
   "metadata": {},
   "source": [
    "## Transforming Data"
   ]
  },
  {
   "cell_type": "code",
   "execution_count": null,
   "metadata": {
    "ExecuteTime": {
     "end_time": "2020-06-27T17:48:52.092784Z",
     "start_time": "2020-06-27T17:48:52.084332Z"
    }
   },
   "outputs": [],
   "source": [
    "del df[\"other_fuel1\"]\n",
    "del df[\"other_fuel2\"]\n",
    "del df[\"other_fuel3\"]"
   ]
  },
  {
   "cell_type": "code",
   "execution_count": null,
   "metadata": {
    "ExecuteTime": {
     "end_time": "2020-06-27T17:48:52.409121Z",
     "start_time": "2020-06-27T17:48:52.402834Z"
    }
   },
   "outputs": [],
   "source": [
    "del df[\"estimated_generation_gwh\"]\n",
    "del df[\"generation_gwh_2013\"]\n",
    "del df[\"generation_gwh_2014\"]\n",
    "del df[\"generation_gwh_2015\"]\n",
    "del df[\"generation_gwh_2016\"]"
   ]
  },
  {
   "cell_type": "code",
   "execution_count": null,
   "metadata": {
    "ExecuteTime": {
     "end_time": "2020-06-27T17:48:52.915096Z",
     "start_time": "2020-06-27T17:48:52.901198Z"
    }
   },
   "outputs": [],
   "source": [
    "for column in df:\n",
    "    nullVal = df[column].isnull().sum()\n",
    "    print(f\"{column}: {nullVal} // {round(nullVal / len(df) *100,2)}\")\n",
    "    "
   ]
  },
  {
   "cell_type": "code",
   "execution_count": null,
   "metadata": {
    "ExecuteTime": {
     "end_time": "2020-06-27T17:48:54.770782Z",
     "start_time": "2020-06-27T17:48:54.765887Z"
    }
   },
   "outputs": [],
   "source": [
    "fuel_types = df[\"primary_fuel\"].unique()\n",
    "fuel_types"
   ]
  },
  {
   "cell_type": "code",
   "execution_count": null,
   "metadata": {
    "ExecuteTime": {
     "end_time": "2020-06-27T17:48:55.008623Z",
     "start_time": "2020-06-27T17:48:54.961754Z"
    }
   },
   "outputs": [],
   "source": [
    "for fuel in fuel_types:\n",
    "    new_df = df.loc[df['primary_fuel'] == fuel]\n",
    "    avg = new_df[\"generation_gwh_2017\"].mean()\n",
    "    print(f\"{fuel}: {round(avg,3)}\")\n",
    "    df['generation_gwh_2017'] = df['generation_gwh_2017'].fillna(avg)\n"
   ]
  },
  {
   "cell_type": "code",
   "execution_count": null,
   "metadata": {
    "ExecuteTime": {
     "end_time": "2020-06-27T17:48:55.152269Z",
     "start_time": "2020-06-27T17:48:55.145782Z"
    }
   },
   "outputs": [],
   "source": [
    "df[\"owner\"] = df[\"owner\"].fillna(\"Not listed\")\n",
    "df[\"commissioning_year\"] = df[\"commissioning_year\"].fillna(0)\n",
    "df[\"year_of_capacity_data\"] = 2017\n",
    "df[\"wepp_id\"] = df[\"wepp_id\"].fillna(0)"
   ]
  },
  {
   "cell_type": "code",
   "execution_count": null,
   "metadata": {
    "ExecuteTime": {
     "end_time": "2020-06-27T17:48:56.107418Z",
     "start_time": "2020-06-27T17:48:56.092053Z"
    }
   },
   "outputs": [],
   "source": [
    "for column in df:\n",
    "    nullVal = df[column].isnull().sum()\n",
    "    print(f\"{column}: {nullVal} // {round(nullVal / len(df) *100,2)}%\")"
   ]
  },
  {
   "cell_type": "code",
   "execution_count": null,
   "metadata": {
    "ExecuteTime": {
     "end_time": "2020-06-27T17:48:56.280894Z",
     "start_time": "2020-06-27T17:48:56.277016Z"
    }
   },
   "outputs": [],
   "source": [
    "df['commissioning_year'] = df['commissioning_year'].astype(int)"
   ]
  },
  {
   "cell_type": "code",
   "execution_count": null,
   "metadata": {
    "ExecuteTime": {
     "end_time": "2020-06-27T17:48:56.737239Z",
     "start_time": "2020-06-27T17:48:56.702913Z"
    },
    "scrolled": true
   },
   "outputs": [],
   "source": [
    "df.set_index(\"id\",inplace=True)"
   ]
  },
  {
   "cell_type": "code",
   "execution_count": null,
   "metadata": {
    "ExecuteTime": {
     "end_time": "2020-06-27T17:49:47.742779Z",
     "start_time": "2020-06-27T17:49:47.599578Z"
    }
   },
   "outputs": [],
   "source": [
    "# We could not get the df to sql  to work with the heroku db so we used the csv file we just created \n",
    "# from the data manipulation and loaded that directly into our postgres db\n",
    "df.to_csv(\"Assets/Data/clean_USA_power_plant_data.csv\")"
   ]
  },
  {
   "cell_type": "code",
   "execution_count": null,
   "metadata": {},
   "outputs": [],
   "source": [
    "df"
   ]
  },
  {
   "cell_type": "code",
   "execution_count": null,
   "metadata": {
    "ExecuteTime": {
     "end_time": "2020-06-27T17:48:58.114370Z",
     "start_time": "2020-06-27T17:48:57.967505Z"
    }
   },
   "outputs": [],
   "source": [
    "# # Create connection (local)\n",
    "# connection_string = f\"{username}:{password}@localhost:5432/usa_power_plants\"\n",
    "# engine = create_engine(f'postgresql://{connection_string}')"
   ]
  },
  {
   "cell_type": "code",
   "execution_count": null,
   "metadata": {
    "ExecuteTime": {
     "end_time": "2020-06-27T17:48:58.817128Z",
     "start_time": "2020-06-27T17:48:58.597059Z"
    }
   },
   "outputs": [],
   "source": [
    "# # Confirm tables\n",
    "# engine.table_names()"
   ]
  },
  {
   "cell_type": "code",
   "execution_count": null,
   "metadata": {
    "ExecuteTime": {
     "end_time": "2020-06-27T17:48:59.022201Z",
     "start_time": "2020-06-27T17:48:58.949217Z"
    }
   },
   "outputs": [],
   "source": [
    "# # Convert df into sql db\n",
    "# df.to_sql(name='power_plants', con=engine, if_exists='replace',index=False)\n"
   ]
  },
  {
   "cell_type": "code",
   "execution_count": null,
   "metadata": {},
   "outputs": [],
   "source": [
    "# # Create connection (heroku)\n",
    "# connection_string = f\"{username_heroku}:{password_heroku}@{host_heroku}:5432/{database_heroku}\"\n",
    "# engine = create_engine(f'postgresql://{connection_string}')"
   ]
  },
  {
   "cell_type": "code",
   "execution_count": null,
   "metadata": {},
   "outputs": [],
   "source": [
    "# # Confirm tables\n",
    "# engine.table_names()"
   ]
  },
  {
   "cell_type": "code",
   "execution_count": null,
   "metadata": {},
   "outputs": [],
   "source": [
    "# # Convert df into sql db\n",
    "# df.to_sql(name='power_plants', con=engine, if_exists='replace')"
   ]
  },
  {
   "cell_type": "code",
   "execution_count": null,
   "metadata": {},
   "outputs": [],
   "source": [
    "# from sqlalchemy.ext.automap import automap_base\n",
    "# from sqlalchemy.orm import Session\n",
    "# from sqlalchemy import create_engine, func\n",
    "# from sqlalchemy.ext.declarative import declarative_base\n",
    "# from sqlalchemy import Column, Integer, String, Float"
   ]
  },
  {
   "cell_type": "code",
   "execution_count": null,
   "metadata": {},
   "outputs": [],
   "source": [
    "# Base = declarative_base()"
   ]
  },
  {
   "cell_type": "code",
   "execution_count": null,
   "metadata": {},
   "outputs": [],
   "source": [
    "# class Power_plants(Base):\n",
    "#     __tablename__ = \"power_plants\"\n",
    "#     id = Column(Integer, primary_key=True)\n",
    "#     country = Column(String)\n",
    "#     country_long = Column(String)\n",
    "#     name = Column(String)\n",
    "#     gppd_idnr = Column(String)\n",
    "#     capacity_mw = Column(Float)\n",
    "#     latitude = Column(Float)\n",
    "#     longitude = Column(Float)\n",
    "#     primary_fuel = Column(String)\n",
    "#     commissioning_year = Column(Integer)\n",
    "#     owner = Column(String)\n",
    "#     source = Column(String)\n",
    "#     url = Column(String)\n",
    "#     geolocation_source = Column(String)\n",
    "#     wepp_id = Column(Integer)\n",
    "#     year_of_capacity_data = Column(Float)\n",
    "#     generation_gwh_2017 = Column(Float)"
   ]
  },
  {
   "cell_type": "code",
   "execution_count": null,
   "metadata": {},
   "outputs": [],
   "source": [
    "# session = Session(bind=engine)"
   ]
  },
  {
   "cell_type": "code",
   "execution_count": null,
   "metadata": {},
   "outputs": [],
   "source": [
    "# session.execute(\"select * from power_plants\")"
   ]
  },
  {
   "cell_type": "code",
   "execution_count": null,
   "metadata": {},
   "outputs": [],
   "source": [
    "# for i, row in df.iterrows():\n",
    "#     power_plant = Power_plants(id=row[\"id\"], country=row[\"country\"], country_long=row[\"country_long\"], name=row[\"name\"], \n",
    "#                               gppd_idnr=row[\"gppd_idnr\"], capacity_mw=row[\"capacity_mw\"], latitude=row[\"latitude\"], longitude=row[\"longitude\"],\n",
    "#                               primary_fuel=row[\"primary_fuel\"], commissioning_year=row[\"commissioning_year\"], owner=row[\"owner\"], source=row[\"source\"],\n",
    "#                               url=row[\"url\"], geolocation_source=row[\"geolocation_source\"], wepp_id=row[\"wepp_id\"], year_of_capacity_data=row[\"year_of_capacity_data\"],\n",
    "#                               generation_gwh_2017=row[\"generation_gwh_2017\"])\n",
    "#     session.add(power_plant)"
   ]
  },
  {
   "cell_type": "code",
   "execution_count": null,
   "metadata": {},
   "outputs": [],
   "source": []
  },
  {
   "cell_type": "code",
   "execution_count": null,
   "metadata": {},
   "outputs": [],
   "source": []
  },
  {
   "cell_type": "code",
   "execution_count": null,
   "metadata": {},
   "outputs": [],
   "source": []
  },
  {
   "cell_type": "code",
   "execution_count": null,
   "metadata": {},
   "outputs": [],
   "source": []
  }
 ],
 "metadata": {
  "kernelspec": {
   "display_name": "Python 3",
   "language": "python",
   "name": "python3"
  },
  "language_info": {
   "codemirror_mode": {
    "name": "ipython",
    "version": 3
   },
   "file_extension": ".py",
   "mimetype": "text/x-python",
   "name": "python",
   "nbconvert_exporter": "python",
   "pygments_lexer": "ipython3",
   "version": "3.7.6"
  },
  "toc": {
   "base_numbering": 1,
   "nav_menu": {},
   "number_sections": true,
   "sideBar": true,
   "skip_h1_title": false,
   "title_cell": "Table of Contents",
   "title_sidebar": "Contents",
   "toc_cell": false,
   "toc_position": {},
   "toc_section_display": true,
   "toc_window_display": false
  },
  "varInspector": {
   "cols": {
    "lenName": 16,
    "lenType": 16,
    "lenVar": 40
   },
   "kernels_config": {
    "python": {
     "delete_cmd_postfix": "",
     "delete_cmd_prefix": "del ",
     "library": "var_list.py",
     "varRefreshCmd": "print(var_dic_list())"
    },
    "r": {
     "delete_cmd_postfix": ") ",
     "delete_cmd_prefix": "rm(",
     "library": "var_list.r",
     "varRefreshCmd": "cat(var_dic_list()) "
    }
   },
   "types_to_exclude": [
    "module",
    "function",
    "builtin_function_or_method",
    "instance",
    "_Feature"
   ],
   "window_display": false
  }
 },
 "nbformat": 4,
 "nbformat_minor": 4
}
